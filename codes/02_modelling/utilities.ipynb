{
 "cells": [
  {
   "cell_type": "code",
   "execution_count": 7,
   "metadata": {},
   "outputs": [],
   "source": [
    "import json\n",
    "import os"
   ]
  },
  {
   "cell_type": "code",
   "execution_count": 27,
   "metadata": {},
   "outputs": [],
   "source": [
    "annot_train = r'datasets/newspaper/train/'\n",
    "annot_val = r'datasets/newspaper/val/'\n",
    "annot_test = r'datasets/newspaper/test/'"
   ]
  },
  {
   "cell_type": "code",
   "execution_count": 42,
   "metadata": {},
   "outputs": [
    {
     "name": "stdout",
     "output_type": "stream",
     "text": [
      "Maximum GT instances in  train :  23\n",
      "Maximum GT instances in  val :  18\n",
      "Maximum GT instances in  test :  18\n"
     ]
    }
   ],
   "source": [
    "for each in [annot_train, annot_val, annot_test]:\n",
    "    annot_dat = json.load(open(each+'annotations.json', 'r'))\n",
    "    len_annots = [len(v['regions']) for k,v in annot_dat.items()]\n",
    "    print(\"Maximum GT instances in \",each.split('/')[-2], \": \", max(len_annots))"
   ]
  },
  {
   "cell_type": "code",
   "execution_count": 37,
   "metadata": {},
   "outputs": [
    {
     "data": {
      "text/plain": [
       "18"
      ]
     },
     "execution_count": 37,
     "metadata": {},
     "output_type": "execute_result"
    }
   ],
   "source": []
  },
  {
   "cell_type": "code",
   "execution_count": null,
   "metadata": {},
   "outputs": [],
   "source": []
  }
 ],
 "metadata": {
  "interpreter": {
   "hash": "aeaa7546ea33e3d0b6d1a3c25f2b6a6e5f5f4553c5d362e2705ed11f980b1025"
  },
  "kernelspec": {
   "display_name": "Python 3.9.7 ('base')",
   "language": "python",
   "name": "python3"
  },
  "language_info": {
   "codemirror_mode": {
    "name": "ipython",
    "version": 3
   },
   "file_extension": ".py",
   "mimetype": "text/x-python",
   "name": "python",
   "nbconvert_exporter": "python",
   "pygments_lexer": "ipython3",
   "version": "3.9.7"
  },
  "orig_nbformat": 4
 },
 "nbformat": 4,
 "nbformat_minor": 2
}
